{
 "cells": [
  {
   "cell_type": "code",
   "execution_count": 1,
   "id": "39beace9",
   "metadata": {},
   "outputs": [],
   "source": [
    "from io import BytesIO\n",
    "%matplotlib inline\n",
    "import matplotlib.pyplot as plt\n",
    "import numpy as np\n",
    "import numba as nb\n",
    "import os\n",
    "import struct\n",
    "import pandas as pd\n",
    "import struct"
   ]
  },
  {
   "cell_type": "code",
   "execution_count": 2,
   "id": "16741a98",
   "metadata": {},
   "outputs": [],
   "source": [
    "areaperil_int = np.dtype(os.environ.get('AREAPERIL_TYPE', 'u4'))\n",
    "oasis_float = np.dtype(os.environ.get('OASIS_FLOAT', 'f4'))\n",
    "oasis_int_dtype = np.dtype('i4')\n",
    "oasis_int = np.int32\n",
    "oasis_int_size = np.int32().itemsize\n",
    "# buff_int_size = buff_size // oasis_int_size\n",
    "\n",
    "areaperil_int_relative_size = areaperil_int.itemsize // oasis_int_size\n",
    "oasis_float_relative_size = oasis_float.itemsize // oasis_int_size\n",
    "results_relative_size = 2 * oasis_float_relative_size\n",
    "\n",
    "EventIndexBin = nb.from_dtype(np.dtype([('event_id', np.int32),\n",
    "                                        ('offset', np.int64),\n",
    "                                        ('size', np.int64)\n",
    "                                        ]))\n",
    "\n",
    "Index_type = nb.from_dtype(np.dtype([('start', np.int64),\n",
    "                                     ('end', np.int64)\n",
    "                                     ]))\n",
    "\n",
    "\n",
    "Event = nb.from_dtype(np.dtype([('areaperil_id', areaperil_int),\n",
    "                                ('intensity_bin_id', np.int32),\n",
    "                                ('probability', oasis_float)\n",
    "                                ]))"
   ]
  },
  {
   "cell_type": "code",
   "execution_count": 6,
   "id": "f1f4797c",
   "metadata": {},
   "outputs": [
    {
     "name": "stdout",
     "output_type": "stream",
     "text": [
      "b'2\\x00\\x00\\x00'\n",
      "50\n",
      "1\n"
     ]
    }
   ],
   "source": [
    "# read the first 8 bytes of the footprint index file to get the header\n",
    "with open(\"./footprint.bin\", \"rb\") as file:\n",
    "    data = file.read(8)\n",
    "\n",
    "number_of_intensity_bins = data[:4]\n",
    "compression_type = data[4:8]\n",
    "print(number_of_intensity_bins)\n",
    "\n",
    "number_of_intensity_bins = int.from_bytes(number_of_intensity_bins, \"little\")  \n",
    "compression_type = int.from_bytes(compression_type, \"little\")  \n",
    "print(number_of_intensity_bins)\n",
    "print(compression_type)\n",
    "# print(data[:8])\n",
    "# first 4 bytes is an integer is the number of intensity bins \n",
    "\n",
    "\n",
    "# second 4 bytes states that type of compression it is\n",
    "\n"
   ]
  },
  {
   "cell_type": "code",
   "execution_count": 40,
   "id": "f2e93d9b",
   "metadata": {},
   "outputs": [
    {
     "name": "stdout",
     "output_type": "stream",
     "text": [
      "{'number of intensity bins': 50, 'compression type': 1}\n",
      "50\n",
      "CompressionEnum.HAS_HAZARD_UNCERTAINTY\n",
      "20\n",
      "True\n",
      "(1, 8, 60000, 0)\n",
      "(2, 60008, 60000, 0)\n",
      "(3, 120008, 60000, 0)\n",
      "(4, 180008, 60000, 0)\n",
      "(5, 240008, 60000, 0)\n",
      "(6, 300008, 60000, 0)\n"
     ]
    }
   ],
   "source": [
    "from enum import Enum\n",
    "\n",
    "\n",
    "class CompressionEnum(Enum):\n",
    "    NO_HAZARD_UNCERTAINTY = 0\n",
    "    HAS_HAZARD_UNCERTAINTY = 1\n",
    "    INDEX_FILE_HAS_UNCOMPRESSED_SIZE = 2\n",
    "    INDEX_FILE_HAS_UNCOMPRESSED_SIZE_AND_THERE_IS_HAZARD_UNCERTAINTY = 3\n",
    "\n",
    "\n",
    "class FootprintIndexBinReader:\n",
    "    \n",
    "    def __init__(self, footprint_path: str, path: str) -> None:\n",
    "        self.footprint_path = footprint_path\n",
    "        self.path = path\n",
    "        self.chunk_size = 20\n",
    "        self.header_size = 8\n",
    "        self.compression = False\n",
    "#         if self.zipped is False:\n",
    "        header = self.header\n",
    "        self.number_of_intensity_bins = header[\"number of intensity bins\"]\n",
    "        self.compression_type = self.map_compression(header[\"compression type\"])\n",
    "        self.map_chunk_size()\n",
    "#         else:\n",
    "        self.compression = True\n",
    "        \n",
    "    def map_chunk_size(self) -> None:\n",
    "        compressed_statuses = [\n",
    "            CompressionEnum.INDEX_FILE_HAS_UNCOMPRESSED_SIZE,\n",
    "            CompressionEnum.INDEX_FILE_HAS_UNCOMPRESSED_SIZE_AND_THERE_IS_HAZARD_UNCERTAINTY\n",
    "        ]\n",
    "        if self.compression_type in compressed_statuses:\n",
    "            self.chunk_size = 28\n",
    "            self.compression = True\n",
    "    \n",
    "    def read(self):\n",
    "        with open(self.path, \"rb\") as file:\n",
    "            data = \"placeholder\"\n",
    "            while data:\n",
    "                data = file.read(self.chunk_size)\n",
    "                if data is None:\n",
    "                    break\n",
    "                offset = self.chunk_size\n",
    "                yield self.process_data(data)\n",
    "                \n",
    "    def process_data(self, data) -> tuple:\n",
    "        event_id = int.from_bytes(data[:4], \"little\")\n",
    "        offset = int.from_bytes(data[4:12], \"little\")\n",
    "        size = int.from_bytes(data[12:20], \"little\")\n",
    "        if self.compression is True:\n",
    "            uncompressed_size = int.from_bytes(data[20:28], \"little\")\n",
    "            return event_id, offset, size, uncompressed_size\n",
    "        return event_id, offset, size\n",
    "    \n",
    "    @staticmethod\n",
    "    def map_compression(compression_type: int) -> CompressionEnum:\n",
    "        return CompressionEnum(compression_type)\n",
    "    \n",
    "    @property\n",
    "    def header(self) -> dict:\n",
    "        placeholder = {}\n",
    "        with open(self.footprint_path, \"rb\") as file:\n",
    "            data = file.read(8)\n",
    "        placeholder[\"number of intensity bins\"] = int.from_bytes(data[:4], \"little\")\n",
    "        placeholder[\"compression type\"] = int.from_bytes(data[4:8], \"little\")\n",
    "        print(placeholder)\n",
    "        return placeholder\n",
    "    \n",
    "    @property\n",
    "    def zipped(self) -> bool:\n",
    "        if self.path[-2:] == \".z\":\n",
    "            return True\n",
    "        return False\n",
    "    \n",
    "\n",
    "    \n",
    "test = FootprintIndexBinReader(\"./footprint.bin\", \"./footprint.idx\")\n",
    "print(test.number_of_intensity_bins)\n",
    "print(test.compression_type)\n",
    "print(test.chunk_size)\n",
    "print(test.compression)\n",
    "\n",
    "counter = 0\n",
    "for i in test.read():\n",
    "    print(i)\n",
    "    counter += 1\n",
    "    if counter > 5:\n",
    "        break"
   ]
  },
  {
   "cell_type": "code",
   "execution_count": 41,
   "id": "f621d394",
   "metadata": {},
   "outputs": [],
   "source": [
    "\n",
    "\n",
    "class FootprintReader:\n",
    "    \n",
    "    def __init__(self, path: str, chunk_size: int) -> None:\n",
    "        self.path = path\n",
    "        self.chunk_size = chunk_size\n",
    "        \n",
    "    def process_data(self, data) -> tuple:\n",
    "        areaperil_id = int.from_bytes(data[:4], \"little\")\n",
    "        intensity_bin_id = int.from_bytes(data[4:8], \"little\")\n",
    "        probability = struct.unpack('f', data[8:12])[0]\n",
    "        \n",
    "        return areaperil_id, intensity_bin_id, probability\n",
    "        \n",
    "    \n",
    "    def read(self):\n",
    "        with open(self.path, \"rb\") as file:\n",
    "            data = file.read(8)\n",
    "            while data:\n",
    "                data = file.read(self.chunk_size)\n",
    "                if data is None:\n",
    "                    break\n",
    "                offset = self.chunk_size\n",
    "                yield self.process_data(data)"
   ]
  },
  {
   "cell_type": "code",
   "execution_count": 48,
   "id": "f865bb45",
   "metadata": {},
   "outputs": [
    {
     "name": "stdout",
     "output_type": "stream",
     "text": [
      "(1, 1, 0.0)\n",
      "(1, 2, 0.062247294932603836)\n",
      "(1, 3, 0.06835487484931946)\n",
      "(1, 4, 0.07045239955186844)\n",
      "(1, 5, 0.038754019886255264)\n",
      "(1, 6, 0.0)\n"
     ]
    }
   ],
   "source": [
    "test = FootprintReader(\"./footprint.bin\", 12)\n",
    "\n",
    "counter = 0\n",
    "for i in test.read():\n",
    "    print(i)\n",
    "    counter += 1\n",
    "    if counter > 5:\n",
    "        break"
   ]
  },
  {
   "cell_type": "code",
   "execution_count": 49,
   "id": "670b0089",
   "metadata": {},
   "outputs": [
    {
     "name": "stdout",
     "output_type": "stream",
     "text": [
      "{'number of intensity bins': 50, 'compression type': 1}\n",
      "50\n",
      "CompressionEnum.HAS_HAZARD_UNCERTAINTY\n",
      "20\n",
      "True\n",
      "(1, 8, 60000, 0)\n",
      "(2, 60008, 60000, 0)\n",
      "(3, 120008, 60000, 0)\n",
      "(4, 180008, 60000, 0)\n",
      "(5, 240008, 60000, 0)\n",
      "(6, 300008, 60000, 0)\n"
     ]
    }
   ],
   "source": [
    "test = FootprintIndexBinReader(\"./static/fooprint.bin.z\", \"./static/footprint.idx.z\")\n",
    "print(test.number_of_intensity_bins)\n",
    "print(test.compression_type)\n",
    "print(test.chunk_size)\n",
    "print(test.compression)\n",
    "counter = 0\n",
    "for i in test.read():\n",
    "    print(i)\n",
    "    counter += 1\n",
    "    if counter > 5:\n",
    "        break"
   ]
  },
  {
   "cell_type": "code",
   "execution_count": null,
   "id": "38e78496",
   "metadata": {},
   "outputs": [],
   "source": []
  }
 ],
 "metadata": {
  "kernelspec": {
   "display_name": "Python 3 (ipykernel)",
   "language": "python",
   "name": "python3"
  },
  "language_info": {
   "codemirror_mode": {
    "name": "ipython",
    "version": 3
   },
   "file_extension": ".py",
   "mimetype": "text/x-python",
   "name": "python",
   "nbconvert_exporter": "python",
   "pygments_lexer": "ipython3",
   "version": "3.8.10"
  }
 },
 "nbformat": 4,
 "nbformat_minor": 5
}
